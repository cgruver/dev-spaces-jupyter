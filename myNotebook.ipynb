{
 "cells": [
  {
   "cell_type": "code",
   "execution_count": 3,
   "id": "c08d0a9e",
   "metadata": {},
   "outputs": [],
   "source": [
    "import pandas as pd\n",
    "from ipydatagrid import DataGrid\n",
    "from IPython.display import display\n",
    "df = pd.DataFrame({\n",
    "    \"Name\": [\"Percy\", \"Millie\", \"Laurie\"],\n",
    "    \"Age\": [3, 1, 10],\n",
    "    \"Color\": [\"White\", \"Brown\", \"Brown\"],\n",
    "    \"Breed\": [\"Bulldog Mix\", \"Chihuahua Mix\", \"Italian Greyhound Mix\"]\n",
    "})"
   ]
  },
  {
   "cell_type": "code",
   "execution_count": 4,
   "id": "5aed46eb",
   "metadata": {},
   "outputs": [
    {
     "data": {
      "application/vnd.jupyter.widget-view+json": {
       "model_id": "181524212f144109a351dcfb9b371acc",
       "version_major": 2,
       "version_minor": 0
      },
      "text/plain": [
       "DataGrid(auto_fit_params={'area': 'all', 'padding': 30, 'numCols': None}, corner_renderer=None, default_render…"
      ]
     },
     "metadata": {},
     "output_type": "display_data"
    }
   ],
   "source": [
    "grid = DataGrid(df)\n",
    "display(grid)"
   ]
  }
 ],
 "metadata": {
  "kernelspec": {
   "display_name": ".venv",
   "language": "python",
   "name": "python3"
  },
  "language_info": {
   "codemirror_mode": {
    "name": "ipython",
    "version": 3
   },
   "file_extension": ".py",
   "mimetype": "text/x-python",
   "name": "python",
   "nbconvert_exporter": "python",
   "pygments_lexer": "ipython3",
   "version": "3.9.21"
  }
 },
 "nbformat": 4,
 "nbformat_minor": 5
}
